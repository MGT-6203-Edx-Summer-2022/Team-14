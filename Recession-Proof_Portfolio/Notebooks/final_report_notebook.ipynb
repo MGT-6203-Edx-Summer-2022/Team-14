{
 "cells": [
  {
   "cell_type": "code",
   "execution_count": 18,
   "id": "83ea9786-a466-439c-9ad0-d786d602c1d6",
   "metadata": {
    "tags": [
     "remove-cell",
     "hide-cell"
    ]
   },
   "outputs": [
    {
     "ename": "ERROR",
     "evalue": "Error in library(tidydata): there is no package called ‘tidydata’\n",
     "output_type": "error",
     "traceback": [
      "Error in library(tidydata): there is no package called ‘tidydata’\nTraceback:\n",
      "1. library(tidydata)"
     ]
    }
   ],
   "source": [
    "options(warn=-1)\n",
    "library(ggplot2)\n",
    "library(tidydata)\n",
    "library(tidydata)\n",
    "library(ggextra)\n",
    "set.seed(6203)"
   ]
  },
  {
   "cell_type": "markdown",
   "id": "d06066e1-afe6-46ab-83e8-4dc7b1c4f989",
   "metadata": {
    "tags": []
   },
   "source": [
    "## Team Members"
   ]
  },
  {
   "cell_type": "markdown",
   "id": "6e4ceb79-1d5b-4d70-a466-55a9a40f195a",
   "metadata": {},
   "source": [
    "* Aaditya Vinnakota (Aaditya316) \n",
    "* Bao Vo (baovo022293) \n",
    "* Frank Corrao (fcorrao) \n",
    "* Michael Obin (Obin_michael)\n",
    "* Nicholas Coyle (nscoyle) "
   ]
  },
  {
   "cell_type": "markdown",
   "id": "25db845b-34e2-4eb3-bd88-eef3c52a056d",
   "metadata": {},
   "source": [
    "## Project Overview"
   ]
  },
  {
   "cell_type": "markdown",
   "id": "118d3042-ee65-4736-aaa7-f06df8bcf7a0",
   "metadata": {},
   "source": [
    "### Goals"
   ]
  },
  {
   "cell_type": "markdown",
   "id": "2a40a77f-86d2-4cb4-8536-15e8d667e7e5",
   "metadata": {
    "tags": []
   },
   "source": [
    "The goal of our analysis is to identify stock attributes and performance trends which are indicative of resilience during economic downturns. To do so, we leverage data for securities in the S&P 500 during several ‘down markets’ - identifying the stocks which outperform the market and analyzing the traits they have in common (e.g. industry, company size, etc). "
   ]
  },
  {
   "cell_type": "markdown",
   "id": "89e3be14-644a-4827-afc5-5055d639c389",
   "metadata": {},
   "source": [
    "### Approach "
   ]
  },
  {
   "cell_type": "markdown",
   "id": "ce725d1a-a896-4976-bdf6-4906eb4559db",
   "metadata": {},
   "source": [
    "The metric we use to identify outperformance is Jensens Alpha.  We run a standard Jensen's Alpha regression:\n",
    "\n"
   ]
  },
  {
   "cell_type": "raw",
   "id": "a9248384-74ab-4e45-a691-9867df287cdb",
   "metadata": {},
   "source": [
    "\n",
    "$ Return_{Stock} - Return_{rf} = \\alpha_{stock} + B_{1}[ Return_{sp500} - Return_{rf}] $\n"
   ]
  },
  {
   "cell_type": "markdown",
   "id": "c133df1c-0830-4763-b1fb-e0b104541808",
   "metadata": {},
   "source": [
    "\n",
    "\n",
    "For each period, we identify the top 30% of positive alpha stocks and code them as outperformers.  This output beceomes the target of a \n",
    "logistic regression to identify features predective of that good performance:\n",
    "\n"
   ]
  },
  {
   "cell_type": "raw",
   "id": "5e0b0916-8a60-4f7e-88d6-8247a0a3ca1d",
   "metadata": {},
   "source": [
    "\n",
    "$ Outperform_{stock} =  B_{0} + B_{1}*[LTM Returns] + B_{2}*[LTM Volatility] + B_{3}*[Is Finance?] + B_{4}*[Is Industrials?] + B_{4} *[Is Real Estate?] + B_{5} *[Unemployment Rate] + B_{6} *[Interest Rate] $\n"
   ]
  },
  {
   "cell_type": "markdown",
   "id": "7167ba9b-51b4-4634-baa3-a8b7aca3214b",
   "metadata": {},
   "source": [
    "\n",
    "Variables that survive backwards-selection and are statistically significant will be deemed features that predict outperformance.\n"
   ]
  },
  {
   "cell_type": "markdown",
   "id": "d1b25d21-ce8e-41ed-8eb5-6afcfeef9ce9",
   "metadata": {},
   "source": [
    "### Initial Hypothesis"
   ]
  },
  {
   "cell_type": "markdown",
   "id": "77b0ac18-e047-441c-ae7b-9bd47eb41d8a",
   "metadata": {},
   "source": [
    "Through this research, we have formed several hypotheses about which types of companies might outperform in recession. We have identified two papers, (Woszczyk 2019) and (Ozkan 2009), which explore investment strategy during economic downturns. Researchers suggest that ‘vice stocks’ tend to outperform as folks resort to ‘bad habits’ (e.g. drinking, smoking, gambling) during times of unemployment Sources 2 (Ozkan 2009).\n",
    "They also find that healthcare companies are resilient, as demand can be relatively inelastic for medical care (Woszczyk 2019)."
   ]
  },
  {
   "cell_type": "markdown",
   "id": "8ed79eeb-b392-4cb3-a42d-060bf3aabbe4",
   "metadata": {},
   "source": [
    "## Overview of Data"
   ]
  },
  {
   "cell_type": "markdown",
   "id": "cc00f90f-8a06-489c-9a9e-02432566b454",
   "metadata": {},
   "source": [
    "Most of the data for this analysis was from sources that were relatively clean. The key componets we needed for the analysis:\n",
    "\n",
    "* For identifying outperformers\n",
    "  * Data to identify recessionary periods\n",
    "  * Stock and index returns\n",
    "  * Index components\n",
    "* For identiying attributes that predict outperformance\n",
    "  * Stock specific attributes (industry, common factor exposures, etc)\n",
    "  * Macroeconomic factors"
   ]
  },
  {
   "cell_type": "markdown",
   "id": "f200296a-fdd0-414d-8979-1c86e4892f40",
   "metadata": {},
   "source": [
    "### Identifying recessions"
   ]
  },
  {
   "cell_type": "markdown",
   "id": "a1b33715-3240-4ddd-964d-860eb3fe64ed",
   "metadata": {
    "tags": []
   },
   "source": [
    "We observice market performance during several recession periods in the United States as idenfitied by the [Federal Reserve GDP based recession indicator](https://fred.stlouisfed.org/series/JHDUSRGDPBR)."
   ]
  },
  {
   "cell_type": "code",
   "execution_count": 23,
   "id": "f5cff601-fe53-4a05-aa8d-fb51fa5c41c7",
   "metadata": {
    "tags": [
     "hide-input",
     "remove-input"
    ]
   },
   "outputs": [
    {
     "data": {
      "image/png": "[encoded data removed]",
      "text/plain": [
       "plot without title"
      ]
     },
     "metadata": {},
     "output_type": "display_data"
    }
   ],
   "source": [
    "options(repr.plot.width=6, repr.plot.height=2)\n",
    "is_recession <- read.csv('../Data/JHDUSRGDPBR.csv')\n",
    "is_recession$DATE <- as.Date(is_recession$DATE)\n",
    "ggplot(is_recession, aes(x=DATE,y=JHDUSRGDPBR)) + geom_line() + ylab('Is Recession?') + ggtitle(\"GDP Based Recession Indicator\") "
   ]
  },
  {
   "cell_type": "markdown",
   "id": "e280fc6f-0e77-4b94-ba2b-ffad104e1cff",
   "metadata": {},
   "source": [
    "Due to limitations in access to historical data, we evalute performance to the three most recent recessions:\n",
    "\n",
    "* January 2001 - October 2001\n",
    "* December 2007 - June 2009\n",
    "* January 2020 - September 2020"
   ]
  },
  {
   "cell_type": "markdown",
   "id": "070f97ef-fafe-4c96-90a0-b6b47dafff53",
   "metadata": {},
   "source": [
    "### Stock returns"
   ]
  },
  {
   "cell_type": "markdown",
   "id": "dae6f0c8-9769-4eaf-83ac-add245bd12b3",
   "metadata": {},
   "source": [
    "Corporate action adjusted stock and index prices were pulled from yahoo via the tidyquant R package. From this data, monthly returns were calculated.  S&P500 Index components were idenfied from publicly available sources."
   ]
  },
  {
   "cell_type": "markdown",
   "id": "f96c2d8f-2a90-42c2-ad9d-b213c98b8ef7",
   "metadata": {},
   "source": [
    "### Stock specific attributes and Macroeconomic factors"
   ]
  },
  {
   "cell_type": "markdown",
   "id": "3d1efd6d-428d-4dc6-acae-a4a309fe2305",
   "metadata": {},
   "source": [
    "Stock sectors were pulled from Yahoo via tidyquant.  Macroeconomic factors such as interest rate and unemployment rate were pulled from Federal Reserve Bank of St. Louis (FRED), also via tidyquant. "
   ]
  },
  {
   "cell_type": "markdown",
   "id": "eb3e9c6a-db95-43b1-a9a1-470266fea3e3",
   "metadata": {
    "tags": []
   },
   "source": [
    "## Overview of Modeling"
   ]
  },
  {
   "cell_type": "markdown",
   "id": "1f21b67b-ee2c-4454-85d1-3301504f9c99",
   "metadata": {},
   "source": [
    "### Identifying outperformers"
   ]
  },
  {
   "cell_type": "markdown",
   "id": "8cf03735-5f7c-4873-9ad3-290aa19bd540",
   "metadata": {},
   "source": [
    "### Identifying predictors of outperformance"
   ]
  },
  {
   "cell_type": "markdown",
   "id": "c1e8ec8a-e5b0-4fe4-8846-47a4066f33e6",
   "metadata": {},
   "source": [
    "### Findings"
   ]
  },
  {
   "cell_type": "markdown",
   "id": "212fd270-7b50-4f10-8f0c-180cb0084c0d",
   "metadata": {},
   "source": [
    "### Challenges and Future Direction"
   ]
  },
  {
   "cell_type": "markdown",
   "id": "0e3f2a7b-161d-478e-b710-0f4e2435c098",
   "metadata": {},
   "source": [
    "There are several key challenges that must be overcome to make these results more robust and realistic:\n",
    "\n",
    "1.  Limited Historical Data: as our access to historical S&P 500 data was limited, we could only evaluate three\n",
    "recession periods. Further, within those recession periods, there were some individual stocks for which data was\n",
    "unavailable (e.g. for the 2001 recession period, we only had data for 340 stocks in the S&P 500). We did our best\n",
    "to mitigate this by using code to track the changes in the S&P 500 listed in wikipedia\n",
    "2.  Limited Operational Performance Data: operational performance data (e.g. market cap, operating income,\n",
    "profit margin) may have been useful in predicting resilience during downturns. However, access to this data\n",
    "required significant investment\n",
    "3.  Non-stationarity: long periods of time between recessions means the patterns we find in our training data\n",
    "may simply no longer exist due to naturally changing market and macroeconomic dynamics\n",
    "             \n",
    "Other additional directions may be to try feature engineering of existing data, identification of technical features that predict outperformance and introcution of alternative classifers to logistic regression, such as tree based methods."
   ]
  },
  {
   "cell_type": "markdown",
   "id": "fe029a45-1960-4833-b28f-e714818386c3",
   "metadata": {},
   "source": [
    "## Conclusion"
   ]
  },
  {
   "cell_type": "markdown",
   "id": "744f1e76-9bf1-4e8f-ac66-7d36436639f4",
   "metadata": {},
   "source": [
    "## Sources"
   ]
  },
  {
   "cell_type": "markdown",
   "id": "711dc122-bc83-497a-aac6-a4b210862260",
   "metadata": {},
   "source": [
    "\n",
    "\n",
    "1.  Woszczyk K, 2019, ‘Do mutual funds invest in recession-proof industries prior to\n",
    "crisis?’, MSc thesis, Erasmus University Rotterdam, Rotterdam [(link)](https://thesis.eur.nl/pub/48135/Thesis-final-K-Woszczyk-25.07.pdf)\n",
    "1.  Ozkan F C, Xiong Y, 2009, ‘Wise Investing: Analysis of the recession-proof sin\n",
    "stocks’, MBA thesis, Simon Fraser University, British Columbia [(link)](http://summit.sfu.ca/item/709)\n",
    "1.  Tidyquant, source of stock data (via Yahoo) and macroeconomic times series (via\n",
    "Fred) [(link)](https://cran.r-project.org/web/packages/tidyquant/vignettes/TQ05-performance-analysis-with-tidyquant.html)\n",
    "1.  Kaggle, guidance for performing S&P 500 Analysis in R [(link)](https://www.kaggle.com/code/paytonfisher/s-p-500-analysis-using-r/notebook)\n",
    "1.  Schwab, ‘Macro-economic factors of fundamental analysis’ [(link)](https://www.cnbc.com/advertorial/2018/06/11/macro-economic-factors-of-fundamental-analysis.html)\n",
    "1.  Stijn Claessens, M. Ayhan Kose, and Marco E. Terrones, 2008, ‘What Happens During Recessions, Crunches and Busts?’ [(link)](https://www.imf.org/external/pubs/ft/wp/2008/wp08274.pdf)\n",
    "1.  U.S. Bureau of Labor Statistics, Unemployment Rate [UNRATE], retrieved from FRED, Federal Reserve Bank of St. Louis;\n",
    "https://fred.stlouisfed.org/series/UNRATE, July 18, 2022 [(link)](https://fred.stlouisfed.org/series/UNRATE)\n",
    "1.  Board of Governors of the Federal Reserve System (US), Federal Funds Effective Rate [FEDFUNDS], retrieved from FRED, Federal Reserve Bank of St. Louis; https://fred.stlouisfed.org/series/FEDFUNDS, July 18, 2022 [(link)](https://fred.stlouisfed.org/series/FEDFUNDS)\n",
    "1.  Hamilton, James, Dates of U.S. recessions as inferred by GDP-based recession indicator [JHDUSRGDPBR], retrieved from FRED, Federal Reserve\n",
    "Bank of St. Louis; https://fred.stlouisfed.org/series/JHDUSRGDPBR, July 18, 2022 [(link)](https://fred.stlouisfed.org/series/JHDUSRGDPBR)"
   ]
  },
  {
   "cell_type": "markdown",
   "id": "82e2b467-368a-4033-8bec-8086edc6f6d6",
   "metadata": {},
   "source": [
    "## Code"
   ]
  },
  {
   "cell_type": "code",
   "execution_count": null,
   "id": "937d0cd2-ec23-4ad1-a00f-6dd2bb09e3eb",
   "metadata": {},
   "outputs": [],
   "source": []
  }
 ],
 "metadata": {
  "kernelspec": {
   "display_name": "R",
   "language": "R",
   "name": "ir"
  },
  "language_info": {
   "codemirror_mode": "r",
   "file_extension": ".r",
   "mimetype": "text/x-r-source",
   "name": "R",
   "pygments_lexer": "r",
   "version": "3.6.1"
  }
 },
 "nbformat": 4,
 "nbformat_minor": 5
}
