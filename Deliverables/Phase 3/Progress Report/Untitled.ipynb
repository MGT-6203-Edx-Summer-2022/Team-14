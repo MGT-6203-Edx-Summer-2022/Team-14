{
 "cells": [
  {
   "cell_type": "markdown",
   "id": "37cc64df",
   "metadata": {},
   "source": [
    "**Project Progress Report**"
   ]
  },
  {
   "cell_type": "code",
   "execution_count": null,
   "id": "79ebab00",
   "metadata": {},
   "outputs": [],
   "source": []
  }
 ],
 "metadata": {
  "kernelspec": {
   "display_name": "R",
   "language": "R",
   "name": "ir"
  },
  "language_info": {
   "codemirror_mode": "r",
   "file_extension": ".r",
   "mimetype": "text/x-r-source",
   "name": "R",
   "pygments_lexer": "r",
   "version": "4.1.2"
  }
 },
 "nbformat": 4,
 "nbformat_minor": 5
}
