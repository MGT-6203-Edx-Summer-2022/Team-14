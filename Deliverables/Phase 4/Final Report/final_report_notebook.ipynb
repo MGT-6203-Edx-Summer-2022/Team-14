{
 "cells": [
  {
   "cell_type": "code",
   "execution_count": 1,
   "id": "83ea9786-a466-439c-9ad0-d786d602c1d6",
   "metadata": {
    "tags": [
     "remove-cell",
     "hide-cell"
    ]
   },
   "outputs": [
    {
     "name": "stderr",
     "output_type": "stream",
     "text": [
      "Registered S3 methods overwritten by 'ggplot2':\n",
      "  method         from \n",
      "  [.quosures     rlang\n",
      "  c.quosures     rlang\n",
      "  print.quosures rlang\n"
     ]
    },
    {
     "ename": "ERROR",
     "evalue": "Error in library(tidydata): there is no package called ‘tidydata’\n",
     "output_type": "error",
     "traceback": [
      "Error in library(tidydata): there is no package called ‘tidydata’\nTraceback:\n",
      "1. library(tidydata)"
     ]
    }
   ],
   "source": [
    "options(warn=-1)\n",
    "library(ggplot2)\n",
    "library(tidydata)\n",
    "library(tidydata)\n",
    "library(ggextra)\n",
    "set.seed(6203)"
   ]
  },
  {
   "cell_type": "markdown",
   "id": "555a6f3a-42f4-4809-aefc-aedf907e19ba",
   "metadata": {
    "tags": [
     "remove-input",
     "hide-cell",
     "remove-cell"
    ]
   },
   "source": [
    "## Code"
   ]
  },
  {
   "cell_type": "markdown",
   "id": "1b156978-8d28-470a-8fbb-23e3bbc4b618",
   "metadata": {
    "tags": [
     "remove-input",
     "hide-cell",
     "remove-cell"
    ]
   },
   "source": [
    "### Getting Data From Wiki For The List of SP500 Institution Historically"
   ]
  },
  {
   "cell_type": "markdown",
   "id": "b42a1b9a-34e8-4309-be69-42a8a6735a36",
   "metadata": {
    "tags": [
     "remove-input",
     "hide-cell",
     "remove-cell"
    ]
   },
   "source": [
    "#### Load dependencies"
   ]
  },
  {
   "cell_type": "code",
   "execution_count": 194,
   "id": "654ec84d-9315-4b7f-bf9a-9b1cb6b4d214",
   "metadata": {
    "tags": [
     "remove-input",
     "hide-cell",
     "remove-cell"
    ]
   },
   "outputs": [
    {
     "name": "stderr",
     "output_type": "stream",
     "text": [
      "Loading required package: tidyquant\n",
      "Loading required package: PerformanceAnalytics\n",
      "Loading required package: xts\n",
      "Loading required package: zoo\n",
      "\n",
      "Attaching package: ‘zoo’\n",
      "\n",
      "The following objects are masked from ‘package:base’:\n",
      "\n",
      "    as.Date, as.Date.numeric\n",
      "\n",
      "Registered S3 method overwritten by 'xts':\n",
      "  method     from\n",
      "  as.zoo.xts zoo \n",
      "\n",
      "Attaching package: ‘xts’\n",
      "\n",
      "The following objects are masked from ‘package:dplyr’:\n",
      "\n",
      "    first, last\n",
      "\n",
      "\n",
      "Attaching package: ‘PerformanceAnalytics’\n",
      "\n",
      "The following object is masked from ‘package:graphics’:\n",
      "\n",
      "    legend\n",
      "\n",
      "Loading required package: quantmod\n",
      "Loading required package: TTR\n",
      "Registered S3 method overwritten by 'quantmod':\n",
      "  method            from\n",
      "  as.zoo.data.frame zoo \n"
     ]
    }
   ],
   "source": [
    "if (!require(\"pacman\")) install.packages(\"pacman\")\n",
    "if (!require(\"lubridate\")) install.packages(\"lubridate\")\n",
    "if (!require(\"tidyquant\")) install.packages(\"tidyquant\")\n",
    "pacman::p_load(tidyverse, rvest)\n",
    "library(dplyr)\n",
    "library(readr)\n",
    "load(\"../../Deliverables/Phase 4/Final Code/Global_Environment_Output(ReadyToRun).RData\")"
   ]
  },
  {
   "cell_type": "markdown",
   "id": "9e2177ed-842d-4817-bee9-0aa7775f2dfe",
   "metadata": {
    "tags": [
     "remove-input",
     "hide-cell",
     "remove-cell"
    ]
   },
   "source": [
    "#### This is where the input  of the list of SP500 companies from wiki "
   ]
  },
  {
   "cell_type": "code",
   "execution_count": 185,
   "id": "4cd0d2d3-9d5e-41df-a9c0-4920572950cb",
   "metadata": {
    "tags": [
     "remove-input",
     "hide-cell",
     "remove-cell"
    ]
   },
   "outputs": [],
   "source": [
    "wikispx <- read_html('https://en.wikipedia.org/wiki/List_of_S%26P_500_companies')\n",
    "currentconstituents <- wikispx %>%\n",
    "  html_node('#constituents') %>%\n",
    "  html_table(header = TRUE)"
   ]
  },
  {
   "cell_type": "markdown",
   "id": "8469e092-64e1-43ae-8b14-eaef0da102a6",
   "metadata": {
    "tags": [
     "remove-input",
     "hide-cell",
     "remove-cell"
    ]
   },
   "source": [
    "#### currentconstituents"
   ]
  },
  {
   "cell_type": "code",
   "execution_count": 186,
   "id": "40bb3d52-7dbe-49c3-83c1-1d722aaed763",
   "metadata": {
    "tags": [
     "remove-input",
     "hide-cell",
     "remove-cell"
    ]
   },
   "outputs": [],
   "source": [
    "spxchanges <- wikispx %>%\n",
    "  html_node('#changes') %>%\n",
    "  html_table(header = FALSE, fill = TRUE) %>%\n",
    "  filter(row_number() > 2) %>% # First two rows are headers\n",
    "  `colnames<-`(c('Date','AddTicker','AddName','RemovedTicker','RemovedName','Reason')) %>%\n",
    "  mutate(Date = as.Date(Date, format = '%B %d, %Y'),\n",
    "         year = year(Date),\n",
    "         month = month(Date))"
   ]
  },
  {
   "cell_type": "markdown",
   "id": "dc4e5f57-9b08-48a2-947c-36a7adc50309",
   "metadata": {
    "tags": [
     "remove-input",
     "hide-cell",
     "remove-cell"
    ]
   },
   "source": [
    "#### Start at the current constituents..."
   ]
  },
  {
   "cell_type": "code",
   "execution_count": 187,
   "id": "f1c47d15-91d8-44a8-b912-dee8dbeaec6d",
   "metadata": {
    "tags": [
     "remove-input",
     "hide-cell",
     "remove-cell"
    ]
   },
   "outputs": [],
   "source": [
    "currentmonth <- as.Date(format(Sys.Date(), '%Y-%m-01'))\n",
    "monthseq <- seq.Date(as.Date('1969-04-01'), currentmonth, by = 'month') %>% rev()\n",
    "\n",
    "spxstocks <- currentconstituents %>% mutate(Date = currentmonth) %>% select(Date, Ticker = Symbol, Name = Security, Sector = `GICS Sector`)\n",
    "lastrunstocks <- spxstocks"
   ]
  },
  {
   "cell_type": "markdown",
   "id": "4201f424-0702-4af5-a50f-bf2ac96056e5",
   "metadata": {
    "tags": [
     "remove-input",
     "hide-cell",
     "remove-cell"
    ]
   },
   "source": [
    "#### Iterate through months, working backwards to get the institutions changed"
   ]
  },
  {
   "cell_type": "code",
   "execution_count": 188,
   "id": "2ee426ee-da3e-4654-b781-a5690dfde09d",
   "metadata": {
    "tags": [
     "remove-input",
     "hide-cell",
     "remove-cell"
    ]
   },
   "outputs": [],
   "source": [
    "for (i in 2:length(monthseq)) {\n",
    "  d <- monthseq[i]\n",
    "  y <- year(d)\n",
    "  m <- month(d)\n",
    "  changes <- spxchanges %>% \n",
    "    filter(year == year(d), month == month(d)) \n",
    "      # Remove added tickers (we're working backwards in time, remember)\n",
    "      tickerstokeep <- lastrunstocks %>% \n",
    "        anti_join(changes, by = c('Ticker' = 'AddTicker')) %>%\n",
    "        mutate(Date = d)\n",
    "\n",
    "      # Add back the removed tickers...\n",
    "      tickerstoadd <- changes %>%\n",
    "        filter(!RemovedTicker == '') %>%\n",
    "        transmute(Date = d,\n",
    "                  Ticker = RemovedTicker,\n",
    "                  Name = RemovedName)\n",
    "\n",
    "      thismonth <- tickerstokeep %>% bind_rows(tickerstoadd)\n",
    "      spxstocks <- spxstocks %>% bind_rows(thismonth)  \n",
    "\n",
    "      lastrunstocks <- thismonth\n",
    "}"
   ]
  },
  {
   "cell_type": "markdown",
   "id": "a4578e61-3aa4-4cb1-a657-f3f88103fccf",
   "metadata": {
    "tags": [
     "remove-input",
     "hide-cell",
     "remove-cell"
    ]
   },
   "source": [
    "#### Then we filter the final dataset to the period that we would like to include in our analysis and combined them to get the final dataset that we output to a csv file that is called \"sp500_bear_periods.csv\""
   ]
  },
  {
   "cell_type": "markdown",
   "id": "d8962b1f-05ce-4873-85e1-f2aaa2ededa7",
   "metadata": {
    "tags": [
     "remove-input",
     "hide-cell",
     "remove-cell"
    ]
   },
   "source": [
    "### Manipulate, cleansing, and use data for detail analysis\n",
    "#### Categorize market cap "
   ]
  },
  {
   "cell_type": "code",
   "execution_count": 189,
   "id": "1fda0567-8d7d-440a-a3cd-b9a9f4a78962",
   "metadata": {
    "tags": [
     "remove-input",
     "hide-cell",
     "remove-cell"
    ]
   },
   "outputs": [],
   "source": [
    "sp500_w_details <- sp500_w_details %>%\n",
    "  mutate(cap_category = ifelse(sp500_w_details$`Market Cap` > 10000000000, 'Large Cap', \n",
    "                               ifelse(sp500_w_details$`Market Cap` < 2000000000, 'Small Cap', 'Mid Cap')))"
   ]
  },
  {
   "cell_type": "markdown",
   "id": "75e19a07-b616-4a27-b4c2-ac9dd1e7716f",
   "metadata": {
    "tags": [
     "remove-input",
     "hide-cell",
     "remove-cell"
    ]
   },
   "source": [
    "#### We get the 8 periods data (1969, 1973, 1979, 1981, 1989, 2001, 2007, 2020\n",
    "#### Then, we calculate the stock return monthly using the tidyverse split, apply, combine framework, we can mutate groups of stocks by first “grouping” with group_by and then applying a mutating function using tq_transmute. We use the quantmod function periodReturn as the mutating function. We pass along the arguments period = \"monthly\" to return the results in monthly periodicity. Last, we use the col_rename argument to rename the output column for each bear market period and also baseline (^GSPC) for each period as well.\n",
    "#### Below is a sample for 1971 period"
   ]
  },
  {
   "cell_type": "code",
   "execution_count": 195,
   "id": "28c4d0ec-fda7-4241-ad39-951bb64d53ce",
   "metadata": {
    "tags": [
     "remove-input",
     "hide-cell",
     "remove-cell"
    ]
   },
   "outputs": [],
   "source": [
    "tickers_1971 <- filter(sp500_historical, Date == \"1969-04-01\")\n",
    "tickers_1971 <- as.character(tickers_1971$Ticker)\n",
    "for (value in symb_2001) {\n",
    "  curr <- subset(RaRb_single_portfolio_2001, symbol==value)\n",
    "  std <- round(sd(curr$Ra)*100,2) \n",
    "  mean <- round(mean(curr$Ra)*100,2)\n",
    "  std_2001[nrow(std_2001) + 1,] <- c(value, std, mean, 2001)\n",
    "}\n",
    "Ra_1971<- tickers_1971 %>%\n",
    "  tq_get(get  = \"stock.prices\",\n",
    "         from = \"1969-04-01\",\n",
    "         to = \"1971-01-01\") %>%\n",
    "  group_by(symbol) %>%\n",
    "  tq_transmute(select     = adjusted, \n",
    "               mutate_fun = periodReturn, \n",
    "               period     = \"monthly\", \n",
    "               col_rename = \"Ra\") \n",
    "               \n",
    "baseline_1971 <- benchmarks %>%\n",
    "  tq_get(get  = \"stock.prices\",\n",
    "         from = \"1969-04-01\",\n",
    "         to = \"1971-01-01\") %>%\n",
    "  tq_transmute(select     = adjusted, \n",
    "               mutate_fun = periodReturn, \n",
    "               period     = \"monthly\", \n",
    "               col_rename = \"Rb\") "
   ]
  },
  {
   "cell_type": "markdown",
   "id": "0d48022d-999b-4d8d-b9ba-9f5c66f54643",
   "metadata": {
    "tags": [
     "remove-input",
     "hide-cell",
     "remove-cell"
    ]
   },
   "source": [
    "#### Then, we join the dfs and calculate CAPM  table. We find that the data for most are the periods are extremely small and are not worth to run the regression model, so we get the top 3 periods to run the model (2001, 2007, 2020) and retrieve the Alpha\n",
    "#### Example of 1 period:"
   ]
  },
  {
   "cell_type": "code",
   "execution_count": 196,
   "id": "ae30bcf3-7fb2-4402-a9d2-b98106d23311",
   "metadata": {
    "tags": [
     "remove-input",
     "hide-cell",
     "remove-cell"
    ]
   },
   "outputs": [
    {
     "name": "stderr",
     "output_type": "stream",
     "text": [
      "Function CAPM.beta.bull: Cannot perform lm. No positive Rb values (no bull periods).\n",
      "Function CAPM.beta.bull: Cannot perform lm. No positive Rb values (no bull periods).\n",
      "Function CAPM.beta.bull: Cannot perform lm. No positive Rb values (no bull periods).\n",
      "Function CAPM.beta.bull: Cannot perform lm. No positive Rb values (no bull periods).\n"
     ]
    }
   ],
   "source": [
    "RaRb_single_portfolio_2001 <- left_join(Ra_2001,\n",
    "                                        baseline_2001,\n",
    "                                        by = \"date\")\n",
    "\n",
    "RaRb_capm_2001 <- RaRb_single_portfolio_2001 %>%\n",
    "  tq_performance(Ra = Ra, \n",
    "                 Rb = Rb, \n",
    "                 performance_fun = table.CAPM)"
   ]
  },
  {
   "cell_type": "markdown",
   "id": "d1dd6583-651a-4d3e-9389-77e2e18d9dd2",
   "metadata": {
    "tags": [
     "remove-input",
     "hide-cell",
     "remove-cell"
    ]
   },
   "source": [
    "#### We categorize the outperformance based on the top 30 percentile (1: outperform, 0: underperform)"
   ]
  },
  {
   "cell_type": "code",
   "execution_count": 197,
   "id": "b48e5bc1-9eb5-48ae-b61b-5b877d9c5cbd",
   "metadata": {
    "tags": [
     "remove-input",
     "hide-cell",
     "remove-cell"
    ]
   },
   "outputs": [],
   "source": [
    "thirtyp_threshold_2001 <- quantile(as.numeric(RaRb_capm_2001$Alpha), probs = 0.7)\n",
    "RaRb_capm_2001$performance <- ifelse(RaRb_capm_2001$Alpha >= thirtyp_threshold_2001, 1, 0)\n",
    "RaRb_capm_2001 <- RaRb_capm_2001[keep]"
   ]
  },
  {
   "cell_type": "markdown",
   "id": "88fe59c3-0a3a-416e-8d02-b333b1f72329",
   "metadata": {
    "tags": [
     "remove-input",
     "hide-cell",
     "remove-cell"
    ]
   },
   "source": [
    "#### We run to get the stock monthly return for the last 12 months prior to each bear market periods and calculate the average standard deviation and average return for these periods"
   ]
  },
  {
   "cell_type": "code",
   "execution_count": 198,
   "id": "4216e15d-9289-48a2-8b3b-3e1964d457f5",
   "metadata": {
    "tags": [
     "remove-input",
     "hide-cell"
    ]
   },
   "outputs": [],
   "source": [
    "std_2001 <- data.frame(matrix(ncol = 4, nrow = 0))"
   ]
  },
  {
   "cell_type": "markdown",
   "id": "1f813d6e-792c-491b-a128-a2f42ac78a10",
   "metadata": {
    "tags": [
     "remove-input",
     "hide-cell",
     "remove-cell"
    ]
   },
   "source": [
    "#### Since we already retrieve the macroeconomic factors data from FRED, we use them to calculate average interest rate and unemployment rate\n",
    "#### Example of 1 period:"
   ]
  },
  {
   "cell_type": "code",
   "execution_count": 199,
   "id": "787b8597-60de-47cf-b959-7ea93007f52c",
   "metadata": {
    "tags": [
     "remove-input",
     "hide-cell",
     "remove-cell"
    ]
   },
   "outputs": [],
   "source": [
    "colnames(eco_factors) <- c('date', 'FEDFUNDS', 'GDP', 'UNRATE', 'PAYEMS', 'ICSA', 'CPIAUCSL', 'USREC')\n",
    "eco_factors$date <- as.Date(eco_factors$date, format = \"%Y-%m-%d\")\n",
    "\n",
    "eco_factors_2001 <- filter(eco_factors, date>=\"2001-01-02\" & date<=\"2001-10-02\")\n",
    "RaRb_capm_comb_2001$interest_mean <- round(mean(eco_factors_2001$FEDFUNDS),1)\n",
    "RaRb_capm_comb_2001$unemp_mean <- round(mean(eco_factors_2001$UNRATE),1)"
   ]
  },
  {
   "cell_type": "markdown",
   "id": "d581759b-0789-437a-98d0-a9fe61d16b68",
   "metadata": {
    "tags": [
     "remove-input",
     "hide-cell",
     "remove-cell"
    ]
   },
   "source": [
    "#### Then, we join the sector to our main dataset. We also drop any NA rows as some tickers, we won't be able to get the sector info on them. This is one of the challenges of obtaining the data available for our analysis.\n",
    "#### Example of 1 period:"
   ]
  },
  {
   "cell_type": "code",
   "execution_count": 200,
   "id": "f2c82215-9725-41f8-af4c-eef5eebc9156",
   "metadata": {
    "tags": [
     "remove-input",
     "hide-cell",
     "remove-cell"
    ]
   },
   "outputs": [],
   "source": [
    "RaRb_capm_comb_final_2001 <- left_join(RaRb_capm_comb_2001, \n",
    "                                       tickers_w_symbol,\n",
    "                                       by = \"symbol\")\n",
    "RaRb_capm_comb_final_2001 <- RaRb_capm_comb_final_2001 %>% drop_na()\n",
    "RaRb_capm_comb_final_2001$sector <- as.factor(RaRb_capm_comb_final_2001$sector)\n",
    "\n",
    "RaRb_capm_comb_final_2001$LMT_std <- as.double(RaRb_capm_comb_final_2001$LMT_std)\n",
    "RaRb_capm_comb_final_2001$mean <- as.double(RaRb_capm_comb_final_2001$mean)"
   ]
  },
  {
   "cell_type": "markdown",
   "id": "9586e1cb-ff0e-4e56-b87b-5e3db16ad147",
   "metadata": {
    "tags": [
     "remove-input",
     "hide-cell",
     "remove-cell"
    ]
   },
   "source": [
    "#### While we run the logistic regression models, we realize that we need to reduce the sectors to find the one that has statistical significant. We convert our sector to column with binary values, so we can use them to continue run the logistic regression models. Our models sector selection downs to 3 sectors: Finance, Real Estate and Industrial."
   ]
  },
  {
   "cell_type": "code",
   "execution_count": 201,
   "id": "49c50a36-ac13-4260-91f4-58ad5cda486e",
   "metadata": {
    "tags": [
     "remove-input",
     "hide-cell",
     "remove-cell"
    ]
   },
   "outputs": [],
   "source": [
    "combine <- bind_rows(RaRb_capm_comb_final_2001, RaRb_capm_comb_final_2007, RaRb_capm_comb_final_2020)\n",
    "combine_converted <- combine %>% \n",
    "  mutate(con_dis = ifelse(sector == \"Consumer Discretionary\", 1, 0)) %>%\n",
    "  mutate(fin = ifelse(sector == \"Finance\", 1, 0)) %>%\n",
    "  mutate(inds = ifelse(sector == \"Industrials\", 1, 0)) %>%\n",
    "  mutate(real_est = ifelse(sector == \"Real Estate\", 1, 0)) %>%\n",
    "  mutate(tech = ifelse(sector == \"Technology\", 1, 0)) %>%\n",
    "  mutate(tele = ifelse(sector == \"Telecommunications\", 1, 0)) "
   ]
  },
  {
   "cell_type": "markdown",
   "id": "8e39ea9d-673b-4751-a879-bc0daf2b8875",
   "metadata": {
    "tags": [
     "remove-input",
     "hide-cell"
    ]
   },
   "source": [
    "#### Logistic Regression models that we run"
   ]
  },
  {
   "cell_type": "code",
   "execution_count": 202,
   "id": "468e5170-4308-49b5-8e6f-509f9b607a60",
   "metadata": {
    "tags": [
     "hide-cell",
     "remove-input",
     "remove-cell"
    ]
   },
   "outputs": [],
   "source": [
    "logistic<- glm(performance ~ LMT_std + mean + interest_mean + unemp_mean + sector, data=combine, family=binomial(link='logit'))\n",
    "\n",
    "logistic_conv <- glm(performance ~ LMT_std + mean + interest_mean + unemp_mean + con_dis + fin + inds\n",
    "                     + real_est + tech + tele, data=combine_converted, family=binomial(link='logit'))\n",
    "\n",
    "logistic_conv_revise <- glm(performance ~ LMT_std + mean + interest_mean + unemp_mean + fin + inds\n",
    "                     + real_est, data=combine_converted, family=binomial(link='logit'))\n",
    "\n",
    "logistic_conv_revise1 <- glm(performance ~ LMT_std + mean + interest_mean + unemp_mean + fin\n",
    "                            + real_est, data=combine_converted, family=binomial(link='logit'))"
   ]
  },
  {
   "cell_type": "markdown",
   "id": "4c9fb595-ae33-449c-a42c-f33d3823b149",
   "metadata": {
    "tags": [
     "hide-cell",
     "remove-input",
     "remove-cell"
    ]
   },
   "source": [
    "#### We output the model summary which we use to find the impact of each factor on the outperformance of these tickers during each period"
   ]
  },
  {
   "cell_type": "markdown",
   "id": "d06066e1-afe6-46ab-83e8-4dc7b1c4f989",
   "metadata": {
    "tags": []
   },
   "source": [
    "## Team Members"
   ]
  },
  {
   "cell_type": "markdown",
   "id": "6e4ceb79-1d5b-4d70-a466-55a9a40f195a",
   "metadata": {},
   "source": [
    "* Aaditya Vinnakota (Aaditya316) \n",
    "* Bao Vo (baovo022293) \n",
    "* Frank Corrao (fcorrao) \n",
    "* Michael Obin (Obin_michael)\n",
    "* Nicholas Coyle (nscoyle) "
   ]
  },
  {
   "cell_type": "markdown",
   "id": "25db845b-34e2-4eb3-bd88-eef3c52a056d",
   "metadata": {},
   "source": [
    "## Project Overview"
   ]
  },
  {
   "cell_type": "markdown",
   "id": "118d3042-ee65-4736-aaa7-f06df8bcf7a0",
   "metadata": {},
   "source": [
    "### Goals"
   ]
  },
  {
   "cell_type": "markdown",
   "id": "2a40a77f-86d2-4cb4-8536-15e8d667e7e5",
   "metadata": {
    "tags": []
   },
   "source": [
    "The goal of our analysis is to identify stock attributes and performance trends which are indicative of resilience during economic downturns. To do so, we leverage data for securities in the S&P 500 during several ‘down markets’ - identifying the stocks which outperform the market and analyzing the traits they have in common (e.g. industry, company size, etc). "
   ]
  },
  {
   "cell_type": "markdown",
   "id": "89e3be14-644a-4827-afc5-5055d639c389",
   "metadata": {},
   "source": [
    "### Approach "
   ]
  },
  {
   "cell_type": "markdown",
   "id": "ce725d1a-a896-4976-bdf6-4906eb4559db",
   "metadata": {},
   "source": [
    "The metric we use to identify outperformance is Jensens Alpha.  We run a standard Jensen's Alpha regression:\n",
    "\n"
   ]
  },
  {
   "cell_type": "raw",
   "id": "a9248384-74ab-4e45-a691-9867df287cdb",
   "metadata": {},
   "source": [
    "\n",
    "$ Return_{Stock} - Return_{rf} = \\alpha_{stock} + B_{1}[ Return_{sp500} - Return_{rf}] $\n"
   ]
  },
  {
   "cell_type": "markdown",
   "id": "c133df1c-0830-4763-b1fb-e0b104541808",
   "metadata": {},
   "source": [
    "\n",
    "\n",
    "For each period, we identify the top 30% of positive alpha stocks and code them as outperformers.  This output beceomes the target of a \n",
    "logistic regression to identify features predective of that good performance:\n",
    "\n"
   ]
  },
  {
   "cell_type": "raw",
   "id": "5e0b0916-8a60-4f7e-88d6-8247a0a3ca1d",
   "metadata": {},
   "source": [
    "\n",
    "$ Outperform_{stock} =  B_{0} + B_{1}*[LTM Returns] + B_{2}*[LTM Volatility] + B_{3}*[Is Finance?] + B_{4}*[Is Industrials?] + B_{4} *[Is Real Estate?] + B_{5} *[Unemployment Rate] + B_{6} *[Interest Rate] $\n"
   ]
  },
  {
   "cell_type": "markdown",
   "id": "7167ba9b-51b4-4634-baa3-a8b7aca3214b",
   "metadata": {},
   "source": [
    "\n",
    "Variables that survive backwards-selection and are statistically significant will be deemed features that predict outperformance.\n"
   ]
  },
  {
   "cell_type": "markdown",
   "id": "d1b25d21-ce8e-41ed-8eb5-6afcfeef9ce9",
   "metadata": {},
   "source": [
    "### Initial Hypothesis / Literature Review"
   ]
  },
  {
   "cell_type": "markdown",
   "id": "77b0ac18-e047-441c-ae7b-9bd47eb41d8a",
   "metadata": {},
   "source": [
    "Through this research, we have formed several hypotheses about which types of companies might outperform in recession. We have identified two papers, (Woszczyk 2019) and (Ozkan 2009), which explore investment strategy during economic downturns. Researchers suggest that ‘vice stocks’ tend to outperform as folks resort to ‘bad habits’ (e.g. drinking, smoking, gambling) during times of unemployment Sources 2 (Ozkan 2009).\n",
    "They also find that healthcare companies are resilient, as demand can be relatively inelastic for medical care (Woszczyk 2019)."
   ]
  },
  {
   "cell_type": "markdown",
   "id": "8ed79eeb-b392-4cb3-a42d-060bf3aabbe4",
   "metadata": {},
   "source": [
    "## Overview of Data"
   ]
  },
  {
   "cell_type": "markdown",
   "id": "cc00f90f-8a06-489c-9a9e-02432566b454",
   "metadata": {},
   "source": [
    "Most of the data for this analysis was from sources that were relatively clean. The key componets we needed for the analysis:\n",
    "\n",
    "* For identifying outperformers\n",
    "  * Data to identify recessionary periods\n",
    "  * Stock and index returns\n",
    "  * Index components\n",
    "* For identiying attributes that predict outperformance\n",
    "  * Stock specific attributes (industry, common factor exposures, etc)\n",
    "  * Macroeconomic factors"
   ]
  },
  {
   "cell_type": "markdown",
   "id": "f200296a-fdd0-414d-8979-1c86e4892f40",
   "metadata": {},
   "source": [
    "### Identifying recessions"
   ]
  },
  {
   "cell_type": "markdown",
   "id": "a1b33715-3240-4ddd-964d-860eb3fe64ed",
   "metadata": {
    "tags": []
   },
   "source": [
    "We observice market performance during several recession periods in the United States as idenfitied by the [Federal Reserve GDP based recession indicator](https://fred.stlouisfed.org/series/JHDUSRGDPBR)."
   ]
  },
  {
   "cell_type": "code",
   "execution_count": 23,
   "id": "f5cff601-fe53-4a05-aa8d-fb51fa5c41c7",
   "metadata": {
    "tags": [
     "hide-input",
     "remove-input"
    ]
   },
   "outputs": [
    {
     "data": {
      "image/png": "[encoded data removed]",
      "text/plain": [
       "plot without title"
      ]
     },
     "metadata": {},
     "output_type": "display_data"
    }
   ],
   "source": [
    "options(repr.plot.width=6, repr.plot.height=2)\n",
    "is_recession <- read.csv('../Data/JHDUSRGDPBR.csv')\n",
    "is_recession$DATE <- as.Date(is_recession$DATE)\n",
    "ggplot(is_recession, aes(x=DATE,y=JHDUSRGDPBR)) + geom_line() + ylab('Is Recession?') + ggtitle(\"GDP Based Recession Indicator\") "
   ]
  },
  {
   "cell_type": "markdown",
   "id": "e280fc6f-0e77-4b94-ba2b-ffad104e1cff",
   "metadata": {},
   "source": [
    "Due to limitations in access to historical data, we evalute performance to the three most recent recessions:\n",
    "\n",
    "* January 2001 - October 2001\n",
    "* December 2007 - June 2009\n",
    "* January 2020 - September 2020"
   ]
  },
  {
   "cell_type": "markdown",
   "id": "070f97ef-fafe-4c96-90a0-b6b47dafff53",
   "metadata": {},
   "source": [
    "### Stock returns"
   ]
  },
  {
   "cell_type": "markdown",
   "id": "dae6f0c8-9769-4eaf-83ac-add245bd12b3",
   "metadata": {},
   "source": [
    "Corporate action adjusted stock and index prices were pulled from yahoo via the tidyquant R package. From this data, monthly returns were calculated.  S&P500 Index components were idenfied from publicly available sources."
   ]
  },
  {
   "cell_type": "markdown",
   "id": "f96c2d8f-2a90-42c2-ad9d-b213c98b8ef7",
   "metadata": {},
   "source": [
    "### Stock specific attributes and Macroeconomic factors"
   ]
  },
  {
   "cell_type": "markdown",
   "id": "3d1efd6d-428d-4dc6-acae-a4a309fe2305",
   "metadata": {},
   "source": [
    "Stock sectors were pulled from Yahoo via tidyquant.  Macroeconomic factors such as interest rate and unemployment rate were pulled from Federal Reserve Bank of St. Louis (FRED), also via tidyquant. "
   ]
  },
  {
   "cell_type": "markdown",
   "id": "eb3e9c6a-db95-43b1-a9a1-470266fea3e3",
   "metadata": {
    "tags": []
   },
   "source": [
    "## Overview of Modeling"
   ]
  },
  {
   "cell_type": "markdown",
   "id": "1f21b67b-ee2c-4454-85d1-3301504f9c99",
   "metadata": {},
   "source": [
    "### Identifying outperformers"
   ]
  },
  {
   "cell_type": "markdown",
   "id": "8ab35e69-74bc-487d-a9d6-813b692f2173",
   "metadata": {},
   "source": [
    "Identifying companies that do well in absolute return space during the peak to through phase of a business cycle is difficult. It may be the case that the vast majority of stocks are losers, simply due to exposure to market beta. Instead, we focus on identifying those companies that outperform the market, which could easily form the basis of a market neutral strategy. The metric we use to identify outperformance is Jensens Alpha. We run a standard Jensen's Alpha regression:\n"
   ]
  },
  {
   "cell_type": "raw",
   "id": "6de9d187-d1f5-43d6-89dd-f02b951e6c92",
   "metadata": {},
   "source": [
    "\n",
    "$ Return_{Stock} - Return_{rf} = \\alpha_{stock} + B_{1}[ Return_{sp500} - Return_{rf}] $\n"
   ]
  },
  {
   "cell_type": "markdown",
   "id": "dced2439-1f89-403f-afb6-6993545002e1",
   "metadata": {},
   "source": [
    "We run this regression for S&P500 stocks for each recession period available to us, with the S&P500 return in placeof the market return.  Fitted alpha values are mapped to class labels {outpeformer/Not outperformer} by finding the cutoff for the top 30% percentile alpha in each period, marking everything above that cutoff that is positive as an Outperformer.  A threshold above the median was selected through exploratory analysis showing that this cutoff gave consistently positive returns of > 2%, which should be enough to cover implentation costs and buffer against regression standard errror. With these labels now in place, we can now use our outperformers in a classifier.  "
   ]
  },
  {
   "cell_type": "code",
   "execution_count": 182,
   "id": "9bbfea49-24bc-40fd-99b4-55c3e1ec7907",
   "metadata": {
    "tags": [
     "hide-input",
     "remove-input"
    ]
   },
   "outputs": [
    {
     "data": {
      "image/png": "[encoded data removed]",
      "text/plain": [
       "plot without title"
      ]
     },
     "metadata": {},
     "output_type": "display_data"
    },
    {
     "data": {
      "image/png": "[encoded data removed]",
      "text/plain": [
       "plot without title"
      ]
     },
     "metadata": {},
     "output_type": "display_data"
    },
    {
     "data": {
      "image/png": "[encoded data removed]",
      "text/plain": [
       "plot without title"
      ]
     },
     "metadata": {},
     "output_type": "display_data"
    }
   ],
   "source": [
    "#library(IRdisplay)\n",
    "#display_png(file=\"../Visualizations/jensens_alpha_2001.png\", height=500, width=400)\n",
    "options(repr.plot.width=8, repr.plot.height=3)\n",
    "p1 <- ggplot(RaRb_capm_2001) + geom_bar(aes(y=Alpha, x=reorder(symbol, -Alpha)), stat='identity') + xlab(\"\")\n",
    "p1 <- p1 + theme(axis.text.x=element_blank(),axis.ticks.x=element_blank())\n",
    "p1 <- p1 + ggtitle(\"Jensen's Alpha 2001 period with indicator for 70th percentile\")\n",
    "p1 <- p1 + geom_vline(aes(xintercept=.3*nrow(RaRb_capm_2001)))\n",
    "\n",
    "print(p1)\n",
    "\n",
    "p1 <- ggplot(RaRb_capm_2007) + geom_bar(aes(y=Alpha, x=reorder(symbol, -Alpha)), stat='identity') + xlab(\"\")\n",
    "p1 <- p1 + theme(axis.text.x=element_blank(),axis.ticks.x=element_blank())\n",
    "p1 <- p1 + ggtitle(\"Jensen's Alpha 2007 period with indicator for 70th percentile\")\n",
    "p1 <- p1 + geom_vline(aes(xintercept=.3*nrow(RaRb_capm_2001)))\n",
    "print(p1)\n",
    "\n",
    "p1 <- ggplot(RaRb_capm_2020) + geom_bar(aes(y=Alpha, x=reorder(symbol, -Alpha)), stat='identity') + xlab(\"\")\n",
    "p1 <- p1 + theme(axis.text.x=element_blank(),axis.ticks.x=element_blank())\n",
    "p1 <- p1 + ggtitle(\"Jensen's Alpha 2020 period with indicator for 70th percentile\")\n",
    "p1 <- p1 + geom_vline(aes(xintercept=.3*nrow(RaRb_capm_2001)))\n",
    "print(p1)\n",
    "\n"
   ]
  },
  {
   "cell_type": "markdown",
   "id": "8cf03735-5f7c-4873-9ad3-290aa19bd540",
   "metadata": {
    "tags": []
   },
   "source": [
    "### Identifying predictors of outperformance"
   ]
  },
  {
   "cell_type": "markdown",
   "id": "1bf507d6-797c-4d8a-9bc1-e8cb5cb9d7b7",
   "metadata": {},
   "source": [
    "With our coded outperformers over multiple recessionary periods in hand, we have a target to train a classifer on. We chose a logistic regression for its relatively good performance and interpertability."
   ]
  },
  {
   "cell_type": "raw",
   "id": "c240b26d-eb59-4a56-8e26-0c1e2dee3293",
   "metadata": {},
   "source": [
    "\n",
    "$ Outperform_{stock} =  B_{0} + B_{1}*[LTM Returns] + B_{2}*[LTM Volatility] + B_{3}*[Is Finance?] + B_{4}*[Is Industrials?] + B_{4} *[Is Real Estate?] + B_{5} *[Unemployment Rate] + B_{6} *[Interest Rate] $\n"
   ]
  },
  {
   "cell_type": "markdown",
   "id": "5f1e9248-e957-4654-8b9c-beeb966ca133",
   "metadata": {},
   "source": [
    "There is a long list of possible factors that could predict market returns, but our imagination is limted by our data as we could not secure access to a professional quality source of equities data.  Some of the features we were able to consider are:\n",
    "\n",
    "\n",
    "* Trailing 12 month returns \n",
    "* Trailing 12 month volatility\n",
    "* Company sector\n",
    "* Average unemployment rate in the period\n",
    "* Interest rates in the period"
   ]
  },
  {
   "cell_type": "code",
   "execution_count": 206,
   "id": "bd03915b-eca9-41fe-be90-7c94d9cbb362",
   "metadata": {
    "tags": [
     "hide-input",
     "remove-input"
    ]
   },
   "outputs": [
    {
     "data": {
      "text/plain": [
       "\n",
       "Call:\n",
       "glm(formula = performance ~ LMT_std + mean + interest_mean + \n",
       "    unemp_mean + con_dis + fin + inds + real_est + tech + tele, \n",
       "    family = binomial(link = \"logit\"), data = combine_converted)\n",
       "\n",
       "Deviance Residuals: \n",
       "    Min       1Q   Median       3Q      Max  \n",
       "-4.8365  -0.3506  -0.0852   0.0579   2.5415  \n",
       "\n",
       "Coefficients:\n",
       "              Estimate Std. Error z value Pr(>|z|)    \n",
       "(Intercept)    13.8584     2.7900   4.967 6.79e-07 ***\n",
       "LMT_std         0.2873     0.0261  11.008  < 2e-16 ***\n",
       "mean            1.7857     0.1242  14.379  < 2e-16 ***\n",
       "interest_mean  -2.1478     0.3371  -6.372 1.87e-10 ***\n",
       "unemp_mean     -2.1846     0.3260  -6.701 2.08e-11 ***\n",
       "con_dis         0.5661     0.2920   1.939  0.05256 .  \n",
       "fin             1.0735     0.3725   2.882  0.00395 ** \n",
       "inds            0.7418     0.3558   2.085  0.03705 *  \n",
       "real_est        1.1853     0.4272   2.775  0.00552 ** \n",
       "tech            0.6436     0.3857   1.669  0.09521 .  \n",
       "tele            1.6074     1.4452   1.112  0.26606    \n",
       "---\n",
       "Signif. codes:  0 ‘***’ 0.001 ‘**’ 0.01 ‘*’ 0.05 ‘.’ 0.1 ‘ ’ 1\n",
       "\n",
       "(Dispersion parameter for binomial family taken to be 1)\n",
       "\n",
       "    Null deviance: 1412.08  on 1159  degrees of freedom\n",
       "Residual deviance:  577.36  on 1149  degrees of freedom\n",
       "AIC: 599.36\n",
       "\n",
       "Number of Fisher Scoring iterations: 7\n"
      ]
     },
     "metadata": {},
     "output_type": "display_data"
    }
   ],
   "source": [
    "library(IRdisplay)\n",
    "#display_png(file=\"../Visualizations/regression_1.png\", height=600, width=400)\n",
    "#![image.PONWP1.png](../Visualizations/regression_1.png)\n",
    "summary(logistic_conv)"
   ]
  },
  {
   "cell_type": "markdown",
   "id": "8c6565b8-706d-4f78-bc33-e55359789156",
   "metadata": {},
   "source": [
    "We perform backwards-selection to remove some insignicant variables to get a final regression output"
   ]
  },
  {
   "cell_type": "code",
   "execution_count": 205,
   "id": "b0913f6c-1c80-47b7-800c-b850651486aa",
   "metadata": {
    "tags": [
     "hide-input",
     "remove-input"
    ]
   },
   "outputs": [
    {
     "data": {
      "text/plain": [
       "\n",
       "Call:\n",
       "glm(formula = performance ~ LMT_std + mean + interest_mean + \n",
       "    unemp_mean + fin + real_est, family = binomial(link = \"logit\"), \n",
       "    data = combine_converted)\n",
       "\n",
       "Deviance Residuals: \n",
       "    Min       1Q   Median       3Q      Max  \n",
       "-4.8360  -0.3618  -0.0892   0.0545   2.6010  \n",
       "\n",
       "Coefficients:\n",
       "              Estimate Std. Error z value Pr(>|z|)    \n",
       "(Intercept)   14.23872    2.75610   5.166 2.39e-07 ***\n",
       "LMT_std        0.29344    0.02563  11.451  < 2e-16 ***\n",
       "mean           1.79070    0.12362  14.485  < 2e-16 ***\n",
       "interest_mean -2.15924    0.33401  -6.465 1.02e-10 ***\n",
       "unemp_mean    -2.18552    0.32307  -6.765 1.33e-11 ***\n",
       "fin            0.64191    0.32525   1.974   0.0484 *  \n",
       "real_est       0.75411    0.38624   1.952   0.0509 .  \n",
       "---\n",
       "Signif. codes:  0 ‘***’ 0.001 ‘**’ 0.01 ‘*’ 0.05 ‘.’ 0.1 ‘ ’ 1\n",
       "\n",
       "(Dispersion parameter for binomial family taken to be 1)\n",
       "\n",
       "    Null deviance: 1412.08  on 1159  degrees of freedom\n",
       "Residual deviance:  584.25  on 1153  degrees of freedom\n",
       "AIC: 598.25\n",
       "\n",
       "Number of Fisher Scoring iterations: 7\n"
      ]
     },
     "metadata": {},
     "output_type": "display_data"
    }
   ],
   "source": [
    "#library(IRdisplay)\n",
    "#display_png(file=\"../Visualizations/regression_2.png\", height=600, width=400)\n",
    "summary(logistic_conv_revise1)"
   ]
  },
  {
   "cell_type": "markdown",
   "id": "c1e8ec8a-e5b0-4fe4-8846-47a4066f33e6",
   "metadata": {},
   "source": [
    "### Findings"
   ]
  },
  {
   "cell_type": "markdown",
   "id": "61ea18df-d756-4a4d-baf7-2748f1208805",
   "metadata": {},
   "source": [
    "Six variables are significant at the 95% confidence interval:\n",
    "\n",
    "\n",
    "* Trailing Company Returns \n",
    "* Trailing Company Volatility\n",
    "* Is Finance Sector\n",
    "* Is Real Estate\n",
    "* Average interest rate\n",
    "* average unemployment rate\n",
    "\n",
    "Strong performance in the year leading up to the recessionary period was indicative of outperformance, as is stock volatility.  The finance an real estate sectors show outperformance during recessions.  As unemployment and interest rates rise, peformance decreases.  "
   ]
  },
  {
   "cell_type": "markdown",
   "id": "212fd270-7b50-4f10-8f0c-180cb0084c0d",
   "metadata": {},
   "source": [
    "### Challenges"
   ]
  },
  {
   "cell_type": "markdown",
   "id": "0e3f2a7b-161d-478e-b710-0f4e2435c098",
   "metadata": {},
   "source": [
    "There are several key challenges that must be overcome to make these results more robust and realistic:\n",
    "\n",
    "1.  Limited Historical Data: as our access to historical S&P 500 data was limited, we could only evaluate three\n",
    "recession periods. Further, within those recession periods, there were some individual stocks for which data was\n",
    "unavailable (e.g. for the 2001 recession period, we only had data for 340 stocks in the S&P 500). We did our best\n",
    "to mitigate this by using code to track the changes in the S&P 500 listed in wikipedia\n",
    "2.  Limited Operational Performance Data: operational performance data (e.g. market cap, operating income,\n",
    "profit margin) may have been useful in predicting resilience during downturns. However, access to this data\n",
    "required significant investment\n",
    "3.  Non-stationarity: long periods of time between recessions means the patterns we find in our training data\n",
    "may simply no longer exist due to naturally changing market and macroeconomic dynamics\n",
    "             "
   ]
  },
  {
   "cell_type": "markdown",
   "id": "0ff86ac2-c6e2-4b4b-a827-f32e878363cf",
   "metadata": {},
   "source": [
    "An additional caveat is that by using a market cap weighted index like the S&P 500, some bias in industry composition might introduced."
   ]
  },
  {
   "cell_type": "code",
   "execution_count": 144,
   "id": "885e9f5a-b1da-4352-912f-affdc34f19c1",
   "metadata": {
    "tags": [
     "hide-input"
    ]
   },
   "outputs": [
    {
     "data": {
      "image/png": "[encoded data removed]",
      "text/plain": [
       "plot without title"
      ]
     },
     "metadata": {},
     "output_type": "display_data"
    }
   ],
   "source": [
    "library(readr)\n",
    "sp500 <- read.csv(\"../Data//S&P500_by_Sector_Cap_PE.csv\",stringsAsFactors=FALSE)\n",
    "#head(sp500)\n",
    "all_marketcap = sum(parse_number(sp500$Market.Capitalization))\n",
    "sector.mktcap <- sp500 %>% mutate(Market.Capitalization=parse_number(Market.Capitalization)) %>% group_by(Sector) %>% summarise(marketcap = sum(Market.Capitalization)/all_marketcap)\n",
    "#ector.mktcap\n",
    "options(repr.plot.width=6, repr.plot.height=4)\n",
    "ggplot(sector.mktcap) + geom_bar(aes(x=reorder(Sector,-marketcap), y=marketcap), stat=\"identity\") + xlab(\"Sector\") +  theme(axis.text.x = element_text(angle = 90, vjust = 0.5, hjust=1)) + ggtitle(\"Relative proportion of Market Cap by Sector\") #+ coord_polar()"
   ]
  },
  {
   "cell_type": "markdown",
   "id": "80456e81-3e40-4355-892b-abddc2f02330",
   "metadata": {},
   "source": [
    "## Future Direction"
   ]
  },
  {
   "cell_type": "markdown",
   "id": "4f5d2c0e-3b0a-4edf-a3d9-a526af364bac",
   "metadata": {},
   "source": [
    "There are a number possible ways to continue this work, the most important being to acquire a longer history of data, and more stock specific data, like common equity factor exposures, to regress against.  Another important future direction would be to include the use of non-linear classifiers, or non-linear feature transformation as some patterns may be complicated. For instance, though we found that trailing performance/momentum is predictive of outperformance during a recession, perhaps the biggest outperformers could perform poorly if they are part of a bubble that has formed. Lastly, should a recession be upon us, it will be important to use that to validate our results."
   ]
  },
  {
   "cell_type": "markdown",
   "id": "744f1e76-9bf1-4e8f-ac66-7d36436639f4",
   "metadata": {},
   "source": [
    "## Sources"
   ]
  },
  {
   "cell_type": "markdown",
   "id": "711dc122-bc83-497a-aac6-a4b210862260",
   "metadata": {},
   "source": [
    "\n",
    "\n",
    "1.  Woszczyk K, 2019, ‘Do mutual funds invest in recession-proof industries prior to\n",
    "crisis?’, MSc thesis, Erasmus University Rotterdam, Rotterdam [(link)](https://thesis.eur.nl/pub/48135/Thesis-final-K-Woszczyk-25.07.pdf)\n",
    "1.  Ozkan F C, Xiong Y, 2009, ‘Wise Investing: Analysis of the recession-proof sin\n",
    "stocks’, MBA thesis, Simon Fraser University, British Columbia [(link)](http://summit.sfu.ca/item/709)\n",
    "1.  Tidyquant, source of stock data (via Yahoo) and macroeconomic times series (via\n",
    "Fred) [(link)](https://cran.r-project.org/web/packages/tidyquant/vignettes/TQ05-performance-analysis-with-tidyquant.html)\n",
    "1.  Kaggle, guidance for performing S&P 500 Analysis in R [(link)](https://www.kaggle.com/code/paytonfisher/s-p-500-analysis-using-r/notebook)\n",
    "1.  Schwab, ‘Macro-economic factors of fundamental analysis’ [(link)](https://www.cnbc.com/advertorial/2018/06/11/macro-economic-factors-of-fundamental-analysis.html)\n",
    "1.  Stijn Claessens, M. Ayhan Kose, and Marco E. Terrones, 2008, ‘What Happens During Recessions, Crunches and Busts?’ [(link)](https://www.imf.org/external/pubs/ft/wp/2008/wp08274.pdf)\n",
    "1.  U.S. Bureau of Labor Statistics, Unemployment Rate [UNRATE], retrieved from FRED, Federal Reserve Bank of St. Louis;\n",
    "https://fred.stlouisfed.org/series/UNRATE, July 18, 2022 [(link)](https://fred.stlouisfed.org/series/UNRATE)\n",
    "1.  Board of Governors of the Federal Reserve System (US), Federal Funds Effective Rate [FEDFUNDS], retrieved from FRED, Federal Reserve Bank of St. Louis; https://fred.stlouisfed.org/series/FEDFUNDS, July 18, 2022 [(link)](https://fred.stlouisfed.org/series/FEDFUNDS)\n",
    "1.  Hamilton, James, Dates of U.S. recessions as inferred by GDP-based recession indicator [JHDUSRGDPBR], retrieved from FRED, Federal Reserve\n",
    "Bank of St. Louis; https://fred.stlouisfed.org/series/JHDUSRGDPBR, July 18, 2022 [(link)](https://fred.stlouisfed.org/series/JHDUSRGDPBR)"
   ]
  }
 ],
 "metadata": {
  "kernelspec": {
   "display_name": "R",
   "language": "R",
   "name": "ir"
  },
  "language_info": {
   "codemirror_mode": "r",
   "file_extension": ".r",
   "mimetype": "text/x-r-source",
   "name": "R",
   "pygments_lexer": "r",
   "version": "3.6.1"
  }
 },
 "nbformat": 4,
 "nbformat_minor": 5
}
